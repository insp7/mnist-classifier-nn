{
  "cells": [
    {
      "cell_type": "markdown",
      "metadata": {
        "id": "KM9-3AZeMlCB"
      },
      "source": [
        "# MNIST Classifier\n",
        "The MNIST database (Modified National Institute of Standards and Technology database) is a large collection of handwritten digits. It has a training set of 60,000 examples, and a test set of 10,000 examples."
      ]
    },
    {
      "cell_type": "markdown",
      "metadata": {},
      "source": [
        "#### GOAL: To build a classifier model that can learn to recognize these handwritten digits."
      ]
    },
    {
      "cell_type": "code",
      "execution_count": null,
      "metadata": {
        "id": "ni1cHrBP-tEn"
      },
      "outputs": [],
      "source": [
        "import numpy as np\n",
        "import matplotlib.pyplot as plt\n",
        "%matplotlib inline\n",
        "import keras\n",
        "from keras.models import Sequential\n",
        "from keras.layers import Dense, Dropout\n",
        "from sklearn.metrics import confusion_matrix\n",
        "import seaborn as sns\n",
        "\n",
        "np.random.seed(7)"
      ]
    },
    {
      "cell_type": "markdown",
      "metadata": {
        "id": "-XVQsyCWDYnO"
      },
      "source": [
        "### Data Dimensions\n",
        "(Independent Variables(X): Total number of Images and their resolution. <br>\n",
        "Dependent Target(y): The Expected Digit in Integer format."
      ]
    },
    {
      "cell_type": "code",
      "execution_count": 4,
      "metadata": {
        "colab": {
          "base_uri": "https://localhost:8080/",
          "height": 0
        },
        "id": "ZarhQoZHDaHW",
        "outputId": "cceb6b8d-4aeb-4921-88ac-ae3310af8d71"
      },
      "outputs": [
        {
          "name": "stdout",
          "output_type": "stream",
          "text": [
            "(60000, 28, 28) (60000,)\n",
            "(10000, 28, 28) (10000,)\n"
          ]
        }
      ],
      "source": [
        "from keras.datasets import mnist\n",
        "(x_train, y_train), (x_test, y_test) = mnist.load_data()\n",
        "print(x_train.shape, y_train.shape)\n",
        "print(x_test.shape, y_test.shape)"
      ]
    },
    {
      "cell_type": "markdown",
      "metadata": {
        "id": "XCRb51EPEIuy"
      },
      "source": [
        "### Preview All Digit Images\n"
      ]
    },
    {
      "cell_type": "code",
      "execution_count": 5,
      "metadata": {
        "colab": {
          "base_uri": "https://localhost:8080/",
          "height": 216
        },
        "id": "pVVsUhbwEPj6",
        "outputId": "cad38934-2998-41d2-ece8-6ef5c8c60863"
      },
      "outputs": [
        {
          "data": {
            "image/png": "[encoded data removed]",
            "text/plain": [
              "<Figure size 2000x2000 with 10 Axes>"
            ]
          },
          "metadata": {},
          "output_type": "display_data"
        }
      ],
      "source": [
        "num_classes = 10\n",
        "f, ax = plt.subplots(1, num_classes, figsize=(20, 20))\n",
        "\n",
        "for i in range(0, num_classes):\n",
        "  sample = x_train[y_train == i][0]\n",
        "  ax[i].imshow(sample, cmap='gray')\n",
        "  ax[i].set_title(\"Label: {}\".format(i), fontsize=16)"
      ]
    },
    {
      "cell_type": "markdown",
      "metadata": {
        "id": "FWgUOYq-Q4i0"
      },
      "source": [
        "### Select a Single Class (In this case = 7)"
      ]
    },
    {
      "cell_type": "code",
      "execution_count": 6,
      "metadata": {
        "id": "g-1vVbocQ2qO"
      },
      "outputs": [],
      "source": [
        "selected_digit = 7"
      ]
    },
    {
      "cell_type": "code",
      "execution_count": 9,
      "metadata": {
        "colab": {
          "base_uri": "https://localhost:8080/",
          "height": 0
        },
        "id": "f3kfft-WSuLh",
        "outputId": "8cb35e04-af53-4296-9149-a10f3c6b11de"
      },
      "outputs": [
        {
          "name": "stdout",
          "output_type": "stream",
          "text": [
            "Converted Real valued output to Binary:\n",
            "[5 0 4 ... 5 6 8] => [0 0 0 ... 0 0 0]\n",
            "[7 2 1 ... 4 5 6] => [1 0 0 ... 0 0 0]\n"
          ]
        }
      ],
      "source": [
        "# Create binary labels - output 1 if 7, else 0\n",
        "y_train_binary = (y_train == selected_digit).astype(int)\n",
        "y_test_binary = (y_test == selected_digit).astype(int)\n",
        "print(\"Converted Real valued output to Binary:\")\n",
        "print(\"{} => {}\".format(y_train, y_train_binary))\n",
        "print(\"{} => {}\".format(y_test, y_test_binary))"
      ]
    },
    {
      "cell_type": "markdown",
      "metadata": {
        "id": "ReSMVe_0GR-i"
      },
      "source": [
        "### Data Normalization"
      ]
    },
    {
      "cell_type": "code",
      "execution_count": 10,
      "metadata": {
        "id": "tFPNaQTsFXO9"
      },
      "outputs": [],
      "source": [
        "# normalize the data to keep it in a certain range.\n",
        "# in this case, since we have data which are RGB images\n",
        "# the values range from 0-255, divide by 255 to get everything in the range 0-1\n",
        "x_train = x_train / 255.0\n",
        "x_test = x_test / 255.0"
      ]
    },
    {
      "cell_type": "code",
      "execution_count": 11,
      "metadata": {
        "colab": {
          "base_uri": "https://localhost:8080/",
          "height": 0
        },
        "id": "bdEzHJRmHFUo",
        "outputId": "188370fd-9855-4a75-b948-f983ab14b0f6"
      },
      "outputs": [
        {
          "name": "stdout",
          "output_type": "stream",
          "text": [
            "(60000, 784)\n"
          ]
        }
      ],
      "source": [
        "# Reshape Data\n",
        "# Flatten it from 28 x 28  => 28 x 28 in 1 dimension i.e. 784\n",
        "x_train = x_train.reshape(x_train.shape[0], -1)\n",
        "x_test = x_test.reshape(x_test.shape[0], -1)\n",
        "print(x_train.shape)"
      ]
    },
    {
      "cell_type": "markdown",
      "metadata": {
        "id": "qnD5RbH_IdUb"
      },
      "source": [
        "### Create Neural Network model"
      ]
    },
    {
      "cell_type": "code",
      "execution_count": 12,
      "metadata": {
        "colab": {
          "base_uri": "https://localhost:8080/",
          "height": 0
        },
        "id": "aHCaN-5gIe-_",
        "outputId": "a212413d-c4da-44b2-9a99-0b9560726f5d"
      },
      "outputs": [
        {
          "name": "stdout",
          "output_type": "stream",
          "text": [
            "Model: \"sequential\"\n",
            "_________________________________________________________________\n",
            " Layer (type)                Output Shape              Param #   \n",
            "=================================================================\n",
            " dense (Dense)               (None, 128)               100480    \n",
            "                                                                 \n",
            " dense_1 (Dense)             (None, 128)               16512     \n",
            "                                                                 \n",
            " dropout (Dropout)           (None, 128)               0         \n",
            "                                                                 \n",
            " dense_2 (Dense)             (None, 1)                 129       \n",
            "                                                                 \n",
            "=================================================================\n",
            "Total params: 117121 (457.50 KB)\n",
            "Trainable params: 117121 (457.50 KB)\n",
            "Non-trainable params: 0 (0.00 Byte)\n",
            "_________________________________________________________________\n"
          ]
        }
      ],
      "source": [
        "model = Sequential() # Simple sequential neural network model\n",
        "\n",
        "model.add(Dense(units=128, input_shape=(784,), activation='relu')) # input of 784 pixels\n",
        "model.add(Dense(units=128, activation='relu'))\n",
        "model.add(Dropout(0.25)) # 25% of our neurons are going to be deactivated during the training to prevent overfitting\n",
        "model.add(Dense(units=1, activation='sigmoid')) # using sigmoid as output activation as it will predict values in between 0-1 which can be interpreted as probabilities\n",
        "\n",
        "model.compile(loss='binary_crossentropy', optimizer='adam', metrics=['accuracy']) # using binary crossentropy, as we only have 2 classes - is 7 or is not 7\n",
        "model.summary()"
      ]
    },
    {
      "cell_type": "markdown",
      "metadata": {
        "id": "fO_tO5YWKODB"
      },
      "source": [
        "### Train the Model"
      ]
    },
    {
      "cell_type": "code",
      "execution_count": 13,
      "metadata": {
        "colab": {
          "base_uri": "https://localhost:8080/",
          "height": 0
        },
        "id": "lEi3C7MiJ39P",
        "outputId": "7c673142-cebb-4694-c169-4af7bb8a9ee0"
      },
      "outputs": [
        {
          "name": "stdout",
          "output_type": "stream",
          "text": [
            "Epoch 1/10\n",
            "235/235 [==============================] - 3s 8ms/step - loss: 0.0650 - accuracy: 0.9775\n",
            "Epoch 2/10\n",
            "235/235 [==============================] - 2s 9ms/step - loss: 0.0245 - accuracy: 0.9925\n",
            "Epoch 3/10\n",
            "235/235 [==============================] - 2s 8ms/step - loss: 0.0164 - accuracy: 0.9952\n",
            "Epoch 4/10\n",
            "235/235 [==============================] - 3s 13ms/step - loss: 0.0121 - accuracy: 0.9964\n",
            "Epoch 5/10\n",
            "235/235 [==============================] - 2s 9ms/step - loss: 0.0084 - accuracy: 0.9975\n",
            "Epoch 6/10\n",
            "235/235 [==============================] - 2s 8ms/step - loss: 0.0069 - accuracy: 0.9977\n",
            "Epoch 7/10\n",
            "235/235 [==============================] - 2s 8ms/step - loss: 0.0052 - accuracy: 0.9984\n",
            "Epoch 8/10\n",
            "235/235 [==============================] - 2s 8ms/step - loss: 0.0037 - accuracy: 0.9988\n",
            "Epoch 9/10\n",
            "235/235 [==============================] - 2s 8ms/step - loss: 0.0033 - accuracy: 0.9990\n",
            "Epoch 10/10\n",
            "235/235 [==============================] - 3s 12ms/step - loss: 0.0022 - accuracy: 0.9994\n"
          ]
        },
        {
          "data": {
            "text/plain": [
              "<keras.src.callbacks.History at 0x7ebb5c067430>"
            ]
          },
          "execution_count": 13,
          "metadata": {},
          "output_type": "execute_result"
        }
      ],
      "source": [
        "model.fit(x=x_train, y=y_train_binary, batch_size=256, epochs=10)"
      ]
    },
    {
      "cell_type": "markdown",
      "metadata": {
        "id": "K7zQ4PAeK5sF"
      },
      "source": [
        "### Perform Inference & Evaluation"
      ]
    },
    {
      "cell_type": "code",
      "execution_count": 14,
      "metadata": {
        "colab": {
          "base_uri": "https://localhost:8080/",
          "height": 0
        },
        "id": "6ZopzcjbKurU",
        "outputId": "63f3047c-ad95-4467-bbe0-7c2921a865f3"
      },
      "outputs": [
        {
          "name": "stdout",
          "output_type": "stream",
          "text": [
            "313/313 [==============================] - 1s 4ms/step - loss: 0.0237 - accuracy: 0.9950\n",
            "Test Loss: 0.023717772215604782, Test Accuracy: 0.9950000047683716\n"
          ]
        }
      ],
      "source": [
        "test_loss, test_acc = model.evaluate(x_test, y_test_binary)\n",
        "print(\"Test Loss: {}, Test Accuracy: {}\".format(test_loss, test_acc))"
      ]
    },
    {
      "cell_type": "code",
      "execution_count": 35,
      "metadata": {
        "colab": {
          "base_uri": "https://localhost:8080/",
          "height": 0
        },
        "id": "r4bqApj9LKbZ",
        "outputId": "607256b2-c5c7-43f8-cca7-eeb97012b90e"
      },
      "outputs": [
        {
          "name": "stdout",
          "output_type": "stream",
          "text": [
            "313/313 [==============================] - 1s 4ms/step\n",
            "[[9.9999660e-01]\n",
            " [4.9324212e-28]\n",
            " [4.9503697e-08]\n",
            " ...\n",
            " [1.3717508e-07]\n",
            " [2.2830743e-12]\n",
            " [1.1192680e-22]]\n"
          ]
        }
      ],
      "source": [
        "y_pred = model.predict(x_test)\n",
        "print(y_pred)\n",
        "# prediction array displayed in scientific notation.\n",
        "# So the first element 9.9999660e-01 when viewed as a real number is 0.99999660"
      ]
    },
    {
      "cell_type": "markdown",
      "metadata": {
        "id": "mHVaHPnRzxkY"
      },
      "source": [
        "### In Class & Out of Class Sample - Textual Example"
      ]
    },
    {
      "cell_type": "code",
      "execution_count": 55,
      "metadata": {
        "colab": {
          "base_uri": "https://localhost:8080/",
          "height": 0
        },
        "id": "NHdSFockmcR_",
        "outputId": "a75f8d19-af4a-41b6-ad01-4fea79530e12"
      },
      "outputs": [
        {
          "name": "stdout",
          "output_type": "stream",
          "text": [
            "Inclass Example:\n",
            "[0.9999966]\n",
            "1\n",
            "7\n",
            "[4.932421e-28]\n",
            "0\n",
            "2\n",
            "Printing the actual binary & real valued output array:\n",
            "[1 0 0 ... 0 0 0]\n",
            "[7 2 1 ... 4 5 6]\n"
          ]
        }
      ],
      "source": [
        "# As we can observe, that for the first image which is a 7, we get a value very close to 1\n",
        "# we veryify that it is actually 7; i.e. our model was correct in classifying by checking\n",
        "# the y_test_binary array which indicates 1(Yes, is selected class) as the first element and y_test real valued output array which indicates 7(Yes, our Selected Class) as the first element\n",
        "# So our model does classify the test input correctly\n",
        "print(\"Inclass Example:\")\n",
        "print(y_pred[0])\n",
        "print(y_test_binary[0]) # Actual test output in binary\n",
        "print(y_test[0]) # Actual test output\n",
        "\n",
        "# We can observe that for the images which are not 7, we get binary output as 0 and predictions closer to 0:\n",
        "print(y_pred[1])\n",
        "print(y_test_binary[1]) # Actual test output in binary\n",
        "print(y_test[1]) # Actual test output\n",
        "\n",
        "print(\"Printing the actual binary & real valued output array:\")\n",
        "print(y_test_binary)\n",
        "print(y_test)"
      ]
    },
    {
      "cell_type": "markdown",
      "metadata": {
        "id": "gWs1-F-Uzjs6"
      },
      "source": [
        "### In Class & Out of Class Sample - Visual Example"
      ]
    },
    {
      "cell_type": "code",
      "execution_count": 79,
      "metadata": {
        "colab": {
          "base_uri": "https://localhost:8080/",
          "height": 296
        },
        "id": "rxxjZSzyeWRF",
        "outputId": "6b34a6bf-f8fa-4b97-80e1-bdc233ad4500"
      },
      "outputs": [
        {
          "data": {
            "image/png": "[encoded data removed]",
            "text/plain": [
              "<Figure size 600x600 with 2 Axes>"
            ]
          },
          "metadata": {},
          "output_type": "display_data"
        }
      ],
      "source": [
        "num_classes = 2\n",
        "f, ax = plt.subplots(1, num_classes, figsize=(6, 6))\n",
        "# print(x_train.shape)\n",
        "# print(y_train_binary.shape)\n",
        "\n",
        "for i in range(0, num_classes):\n",
        "  # Find the index with all unique y_train_binary classes i.e. 0, 1\n",
        "  index = np.where(y_train_binary == i)[0][0]\n",
        "  sample = x_train[index]\n",
        "  ax[i].imshow(sample.reshape(28, 28), cmap='gray')\n",
        "  ax[i].set_title(\"Label: {}\".format(i), fontsize=16)"
      ]
    },
    {
      "cell_type": "markdown",
      "metadata": {
        "id": "OkairiKq2VFm"
      },
      "source": [
        "Summary: This model distinguishes images by identifying learned features during training. It recognizes distinctive characteristics of digit 7 for in-class samples, while for out-of-class samples, it discerns common features shared among other digits, separate from those unique to digit 7"
      ]
    }
  ],
  "metadata": {
    "colab": {
      "provenance": []
    },
    "kernelspec": {
      "display_name": "Python 3",
      "name": "python3"
    },
    "language_info": {
      "name": "python"
    }
  },
  "nbformat": 4,
  "nbformat_minor": 0
}
